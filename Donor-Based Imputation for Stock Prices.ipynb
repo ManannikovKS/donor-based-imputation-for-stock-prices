{
 "cells": [
  {
   "cell_type": "code",
   "execution_count": 129,
   "id": "f5440411",
   "metadata": {},
   "outputs": [],
   "source": [
    "import yfinance as yf\n",
    "import matplotlib.pyplot as plt\n",
    "import numpy as np"
   ]
  },
  {
   "cell_type": "markdown",
   "id": "92661ae8-9eb2-48e2-b9bd-e1d3da908a85",
   "metadata": {},
   "source": [
    "# Problem Statement\n",
    "\n",
    "We work with adjusted close prices of financial assets.  \n",
    "One asset is selected as the **target series**, while the others serve as **donor series**.  \n",
    "\n",
    "The challenge:  \n",
    "- The target series contains missing values (NaNs).  \n",
    "- We want to **impute these missing values** as accurately as possible.  \n",
    "- Donor series may also contain NaNs, which we handle appropriately during preprocessing.  \n",
    "\n",
    "The goal:   \n",
    "- Achieve better accuracy than simple linear interpolation.  \n"
   ]
  },
  {
   "cell_type": "markdown",
   "id": "7bd34909-e5fe-49ff-a234-5e0d710c7de6",
   "metadata": {},
   "source": [
    "# Part 0: data preparation\n",
    "\n",
    "\n",
    "In this section we load the historical price series, artificially generate missing values \n",
    "(NaNs), and prepare \"donor\" series that will be used as predictors for imputation.\n",
    "\n",
    "The donors are auxiliary time series (other assets or related instruments) that \n",
    "can help predict the missing values of the target series."
   ]
  },
  {
   "cell_type": "code",
   "execution_count": 131,
   "id": "0a9bb688",
   "metadata": {},
   "outputs": [],
   "source": [
    "start_date = '2020-01-01'\n",
    "end_date = '2025-01-01'"
   ]
  },
  {
   "cell_type": "code",
   "execution_count": null,
   "id": "522bc7b4-1954-484a-9407-ec78120493db",
   "metadata": {},
   "outputs": [],
   "source": []
  },
  {
   "cell_type": "code",
   "execution_count": 132,
   "id": "c5cd4c0d",
   "metadata": {},
   "outputs": [],
   "source": [
    "import pandas as pd\n",
    "sp500_tickers = pd.read_html(\"https://en.wikipedia.org/wiki/List_of_S%26P_500_companies\")[0]['Symbol'].to_list()"
   ]
  },
  {
   "cell_type": "code",
   "execution_count": 133,
   "id": "18e24b5d",
   "metadata": {},
   "outputs": [],
   "source": [
    "sp500_tickers = [name for name in sp500_tickers if '.B' not in name]"
   ]
  },
  {
   "cell_type": "code",
   "execution_count": 134,
   "id": "584d8983-62d9-45b2-8732-2dea16b12298",
   "metadata": {
    "scrolled": true
   },
   "outputs": [
    {
     "name": "stderr",
     "output_type": "stream",
     "text": [
      "[*********************100%***********************]  501 of 501 completed\n",
      "\n",
      "1 Failed download:\n",
      "['PRU']: Timeout('Failed to perform, curl: (28) Connection timed out after 10011 milliseconds. See https://curl.se/libcurl/c/libcurl-errors.html first for more details.')\n"
     ]
    }
   ],
   "source": [
    "historical_prices = yf.download(sp500_tickers, start = start_date, end = end_date, auto_adjust = False)"
   ]
  },
  {
   "cell_type": "code",
   "execution_count": 135,
   "id": "042cece2",
   "metadata": {},
   "outputs": [],
   "source": [
    "historical_prices = historical_prices.loc[:, historical_prices.columns.get_level_values(0) == 'Adj Close']\n",
    "historical_prices.columns = historical_prices.columns.droplevel(0)"
   ]
  },
  {
   "cell_type": "code",
   "execution_count": 136,
   "id": "c0825021",
   "metadata": {},
   "outputs": [],
   "source": [
    "ticker_counts = historical_prices.count()"
   ]
  },
  {
   "cell_type": "code",
   "execution_count": 137,
   "id": "b223fd41",
   "metadata": {},
   "outputs": [],
   "source": [
    "MIN_REQ_NUM = 100\n",
    "valid_tickers_mask = ticker_counts[ticker_counts >= MIN_REQ_NUM ].index\n",
    "historical_prices = historical_prices[valid_tickers_mask]"
   ]
  },
  {
   "cell_type": "code",
   "execution_count": 138,
   "id": "99c0a5aa-365a-44a0-874e-4a917c0b8ff4",
   "metadata": {},
   "outputs": [],
   "source": [
    "target_ticker = 'AAPL'"
   ]
  },
  {
   "cell_type": "code",
   "execution_count": 294,
   "id": "f73f3a39",
   "metadata": {},
   "outputs": [
    {
     "data": {
      "text/plain": [
       "0"
      ]
     },
     "execution_count": 294,
     "metadata": {},
     "output_type": "execute_result"
    }
   ],
   "source": [
    "sum(historical_prices[target_ticker].isna())"
   ]
  },
  {
   "cell_type": "markdown",
   "id": "8da35f9a-4c09-4b36-82f5-47c50c9cb6ee",
   "metadata": {},
   "source": [
    "looks like there is no nans in AAPL. well, let us introduce them by hands."
   ]
  },
  {
   "cell_type": "code",
   "execution_count": 295,
   "id": "3d1865ac-38bf-43e1-9939-3a225375fd7b",
   "metadata": {},
   "outputs": [],
   "source": [
    "def generate_nans(p, df):\n",
    "    mask = np.random.rand(*df.shape) < p\n",
    "    return df.mask(mask)"
   ]
  },
  {
   "cell_type": "code",
   "execution_count": 296,
   "id": "5583bb8c-bc23-4334-9316-093951074953",
   "metadata": {},
   "outputs": [],
   "source": [
    "historical_prices_with_nans = generate_nans(0.01, historical_prices)"
   ]
  },
  {
   "cell_type": "code",
   "execution_count": 297,
   "id": "50451e7b-9ea7-4a10-b804-3c35d6e4c3cc",
   "metadata": {},
   "outputs": [],
   "source": [
    "def give_donors(K, df, target_ticker):\n",
    "    f_returns = np.log(df).diff()[1:]\n",
    "    corr = np.abs(f_returns.head().corr()[target_ticker]).sort_values(ascending=False)   \n",
    "    \n",
    "    corr_topK = corr[1:K+1]\n",
    "    most_corr_index = corr_topK.index.to_list()\n",
    "    mask = f_returns[most_corr_index].isna().sum(axis=1).gt(1)\n",
    "    donors = np.log(historical_prices_with_nans[most_corr_index].interpolate(method=\"linear\", limit_direction=\"both\")).diff()\n",
    "\n",
    "    return donors"
   ]
  },
  {
   "cell_type": "code",
   "execution_count": 298,
   "id": "6d44beb0-e14d-4dc1-ae9b-805fa4a38546",
   "metadata": {},
   "outputs": [],
   "source": [
    "donors = give_donors(15, historical_prices_with_nans, target_ticker)\n",
    "s = historical_prices_with_nans[target_ticker].copy()"
   ]
  },
  {
   "cell_type": "markdown",
   "id": "339b9248-4283-4e7b-b8ae-eed42f332859",
   "metadata": {},
   "source": [
    "# Part 1: fitting single nans\n",
    "\n",
    "For imputing **single missing values** in the target series, we want to use:\n",
    "\n",
    "- The previous value (yesterday).  \n",
    "- The next value (tomorrow).  \n",
    "- The donor series (related assets).  \n",
    "\n",
    "However, the donors may be on very different scales. Simply applying a scaler (e.g., standardization) is not enough, because one of the donors may have a strong **exponential trend**.  \n",
    "\n",
    "To address this, we transform the **donors** into **log returns**. This makes all donor series approximately scale-invariant and comparable.\n",
    "\n",
    "For the **target series** we cannot directly switch to log returns, because every missing value in prices would create two missing values in returns. Instead, we handle it differently:\n",
    "\n",
    "- We linearly interpolate the missing values in the target price series.  \n",
    "- The model is then trained to predict the **relative deviation** between the true price and its linear interpolation.  \n",
    "\n",
    "This way:  \n",
    "- All donor data are on a comparable scale (log returns).  \n",
    "- The target is defined as a relative correction to linear interpolation.  \n",
    "- The model learns to improve upon interpolation rather than predicting absolute values."
   ]
  },
  {
   "cell_type": "markdown",
   "id": "f5a80f3f-3e2d-45f6-afa1-3092109625d2",
   "metadata": {},
   "source": [
    "## Feature Construction and Target Definition\n",
    "\n",
    "Here we construct the training features and target values for the model.\n",
    "\n",
    "- **Features (X):** donor time series and their one-step shifts.  \n",
    "- **Target (y):** relative correction of the target series compared to a simple \n",
    "  linear interpolation between neighbors.  \n",
    "\n",
    "We train only on points where both left and right neighbors are available \n",
    "(no NaNs on either side)."
   ]
  },
  {
   "cell_type": "code",
   "execution_count": 299,
   "id": "60232243-d7d1-492b-82bd-89be6243e274",
   "metadata": {},
   "outputs": [],
   "source": [
    "def give_train_target(s, donors):\n",
    "    # Training indices: valid points with valid left and right neighbors\n",
    "    mask_train = (\n",
    "        s.notna() &\n",
    "        s.shift(1).notna() &\n",
    "        s.shift(-1).notna()\n",
    "    )\n",
    "    train_indices = s.index[mask_train].tolist()\n",
    "    \n",
    "    # Target indices: missing points with valid neighbors on both sides\n",
    "    mask_target = (\n",
    "        s.isna() &\n",
    "        s.shift(1).notna() &\n",
    "        s.shift(-1).notna()\n",
    "    )\n",
    "    target_indices = s.index[mask_target].tolist()\n",
    "    \n",
    "    # Linear interpolation (average of neighbors)\n",
    "    lin = (s.shift(1) + s.shift(-1)) / 2\n",
    "    \n",
    "    # Target values: relative correction with respect to interpolation\n",
    "    y = ((s - lin) / lin).loc[train_indices].to_numpy()\n",
    "    \n",
    "    # Features: donors and their forward shift\n",
    "    X = pd.concat(\n",
    "        [donors, donors.shift(-1)], axis=1\n",
    "    ).loc[train_indices].to_numpy()\n",
    "    \n",
    "    # Remove edges where shift produced NaN\n",
    "    X, y = X[1:-1], y[1:-1]\n",
    "    \n",
    "    # Features for target indices (values to impute)\n",
    "    X_target = pd.concat(\n",
    "        [donors, donors.shift(-1)], axis=1\n",
    "    ).loc[target_indices].to_numpy()\n",
    "    \n",
    "    return X, y, X_target, target_indices"
   ]
  },
  {
   "cell_type": "code",
   "execution_count": 300,
   "id": "7bb448f0-07b9-4876-829a-1606e81ed77d",
   "metadata": {},
   "outputs": [],
   "source": [
    "X, y, X_target, target_indices = give_train_target(s, donors)"
   ]
  },
  {
   "cell_type": "markdown",
   "id": "8c2a9521-0755-4b41-ba70-662ca36ac063",
   "metadata": {},
   "source": [
    "### Searching for beat ElasticNet params"
   ]
  },
  {
   "cell_type": "code",
   "execution_count": 301,
   "id": "ae4869b1-a03c-41e8-ac71-a8566bd78c34",
   "metadata": {},
   "outputs": [
    {
     "name": "stderr",
     "output_type": "stream",
     "text": [
      "Random search ElasticNet: 100%|█████████████████████████████████████████████████████| 400/400 [00:02<00:00, 143.24it/s]"
     ]
    },
    {
     "name": "stdout",
     "output_type": "stream",
     "text": [
      "Best params: {'l1_ratio': np.float64(0.12412060301507538), 'alpha': np.float64(0.00010718913192051276)}, LogLoss: 0.0093\n"
     ]
    },
    {
     "name": "stderr",
     "output_type": "stream",
     "text": [
      "\n"
     ]
    }
   ],
   "source": [
    "import numpy as np\n",
    "from sklearn.model_selection import KFold\n",
    "from sklearn.linear_model import ElasticNet\n",
    "from sklearn.metrics import r2_score, mean_squared_error, mean_absolute_error\n",
    "from sklearn.model_selection import ParameterSampler\n",
    "from tqdm import tqdm\n",
    "\n",
    "param_grid = {\n",
    "    \"alpha\": np.logspace(-4, 2, 200),          \n",
    "    \"l1_ratio\": np.linspace(0.1, 0.9, 200)      \n",
    "}\n",
    "\n",
    "sampler = list(ParameterSampler(param_grid, n_iter=400, random_state=42))\n",
    "\n",
    "\n",
    "kf = KFold(n_splits=5, shuffle=True, random_state=42)\n",
    "best_score = float('inf')\n",
    "best_params = None\n",
    "results = []\n",
    "\n",
    "for params in tqdm(sampler, desc=\"Random search ElasticNet\"):\n",
    "    cv_scores = []\n",
    "    for train_idx, val_idx in kf.split(X):\n",
    "        \n",
    "        X_train, y_train = X[train_idx], y[train_idx]\n",
    "        X_val, y_val = X[val_idx], y[val_idx]\n",
    "\n",
    "        preds_val = np.zeros_like(y_val, dtype=float)\n",
    "        \n",
    "        model = ElasticNet(**params)\n",
    "        \n",
    "        model.fit(X_train, y_train)\n",
    "        pred = model.predict(X_val)\n",
    "        cv_scores += [mean_squared_error(y_val, pred)**0.5]\n",
    "    \n",
    "    mean_cv_score = np.mean(cv_scores)\n",
    "    results.append((mean_cv_score, params))\n",
    "    if mean_cv_score < best_score:\n",
    "            best_score = mean_cv_score\n",
    "            best_params = params\n",
    "\n",
    "   \n",
    "print(f\"Best params: {best_params}, LogLoss: {best_score:.4f}\")\n",
    "\n",
    "    \n",
    "\n"
   ]
  },
  {
   "cell_type": "code",
   "execution_count": 302,
   "id": "085ccf3e-cc23-4d27-9861-8b3505bb301e",
   "metadata": {},
   "outputs": [],
   "source": [
    "model = ElasticNet(**best_params)\n",
    "pred = model.fit(X, y)\n",
    "\n",
    "pred = model.predict(X_target)"
   ]
  },
  {
   "cell_type": "code",
   "execution_count": 303,
   "id": "6331b0ea-4a43-43f1-aed2-1f7753c32696",
   "metadata": {},
   "outputs": [],
   "source": [
    "lin = (s.shift(1) + s.shift(-1)) / 2"
   ]
  },
  {
   "cell_type": "code",
   "execution_count": 304,
   "id": "2e87e6c4-6aa5-4761-947a-341dc881fa38",
   "metadata": {},
   "outputs": [
    {
     "data": {
      "text/plain": [
       "array([119.41989136, 129.24633789, 163.34687805, 151.54399109,\n",
       "       150.8143158 , 162.91918945, 185.69782257, 165.25327301,\n",
       "       166.23622131, 207.701828  ])"
      ]
     },
     "execution_count": 304,
     "metadata": {},
     "output_type": "execute_result"
    }
   ],
   "source": [
    "lin.loc[target_indices].values"
   ]
  },
  {
   "cell_type": "code",
   "execution_count": 305,
   "id": "2e749e06-bdbd-49f8-9950-b39830b33dff",
   "metadata": {},
   "outputs": [],
   "source": [
    "\n",
    "\n",
    "# price reconstraction\n",
    "pred_prices = (1 + pred) * lin.loc[target_indices].values\n"
   ]
  },
  {
   "cell_type": "code",
   "execution_count": 306,
   "id": "4523a69a-c9ba-4e1a-9fd1-2e5de3200bca",
   "metadata": {},
   "outputs": [],
   "source": [
    "\n",
    "true_prices = historical_prices[target_ticker].loc[target_indices].values\n",
    "\n",
    "easy_pred_prices = historical_prices_with_nans[target_ticker].interpolate().loc[target_indices].values"
   ]
  },
  {
   "cell_type": "code",
   "execution_count": 307,
   "id": "f169bd87-5487-4634-8d47-707ffd34faf0",
   "metadata": {},
   "outputs": [
    {
     "data": {
      "text/plain": [
       "1.0449586617079996"
      ]
     },
     "execution_count": 307,
     "metadata": {},
     "output_type": "execute_result"
    }
   ],
   "source": [
    "mean_squared_error(pred_prices, true_prices)**0.5"
   ]
  },
  {
   "cell_type": "code",
   "execution_count": 308,
   "id": "8b2471fd-b08a-4e19-b637-27b16cdf9d40",
   "metadata": {},
   "outputs": [
    {
     "data": {
      "text/plain": [
       "1.0489175574071563"
      ]
     },
     "execution_count": 308,
     "metadata": {},
     "output_type": "execute_result"
    }
   ],
   "source": [
    "mean_squared_error(easy_pred_prices, true_prices)**0.5"
   ]
  },
  {
   "cell_type": "code",
   "execution_count": 309,
   "id": "1a5ca429-760a-48f3-b2fc-6cb3d38ea885",
   "metadata": {},
   "outputs": [
    {
     "name": "stderr",
     "output_type": "stream",
     "text": [
      "100%|██████████████████████████████████████████████████████████████████████████████████| 25/25 [03:43<00:00,  8.94s/it]\n"
     ]
    }
   ],
   "source": [
    "aver = 100\n",
    "p_arr = np.linspace(0.005, 0.1, 25)\n",
    "performance = np.zeros(len(p_arr))\n",
    "\n",
    "for i in tqdm(range(len(p_arr))):\n",
    "    p = p_arr[i]\n",
    "    for j in range(aver):\n",
    "   \n",
    "        historical_prices_with_nans = generate_nans(p, historical_prices)\n",
    "        donors = give_donors(15, historical_prices_with_nans, target_ticker)\n",
    "        s = historical_prices_with_nans[target_ticker]\n",
    "        X, y, X_target, target_indices = give_train_target(s, donors)\n",
    "    \n",
    "        model = ElasticNet(**best_params)\n",
    "        pred = model.fit(X, y)\n",
    "        \n",
    "        pred = model.predict(X_target)\n",
    "\n",
    "        lin = (s.shift(1) + s.shift(-1)) / 2\n",
    "        pred_prices = (1 + pred) * lin.loc[target_indices].values\n",
    "\n",
    "        true_prices = historical_prices[target_ticker].loc[target_indices].values\n",
    "\n",
    "        easy_pred_prices = historical_prices_with_nans[target_ticker].interpolate().loc[target_indices].values\n",
    "\n",
    "        s1 = mean_squared_error(pred_prices, true_prices)**0.5\n",
    "        s2 = mean_squared_error(easy_pred_prices, true_prices)**0.5\n",
    "        performance[i] += (s2-s1)/s2 / aver"
   ]
  },
  {
   "cell_type": "code",
   "execution_count": 310,
   "id": "c20d6e0f-9142-4ed0-a0b5-e27a0993364d",
   "metadata": {},
   "outputs": [
    {
     "name": "stderr",
     "output_type": "stream",
     "text": [
      "C:\\Users\\Костя\\AppData\\Local\\Temp\\ipykernel_3076\\475930803.py:9: UserWarning: No artists with labels found to put in legend.  Note that artists whose label start with an underscore are ignored when legend() is called with no argument.\n",
      "  plt.legend(fontsize =17)\n"
     ]
    },
    {
     "data": {
      "text/plain": [
       "Text(0.5, 0, 'Nan probability')"
      ]
     },
     "execution_count": 310,
     "metadata": {},
     "output_type": "execute_result"
    },
    {
     "data": {
      "image/png": "[encoded data removed]",
      "text/plain": [
       "<Figure size 640x480 with 1 Axes>"
      ]
     },
     "metadata": {},
     "output_type": "display_data"
    }
   ],
   "source": [
    "plt.plot(p_arr, performance*100, c ='r')\n",
    "\n",
    "plt.xticks(fontsize =20)\n",
    "plt.yticks(fontsize = 20)\n",
    "\n",
    "\n",
    "plt.ylabel(\"Performance, %\", fontsize =20)\n",
    "#plt.title('$k_{minloss} = \\\\pi/4$', fontsize = 20)\n",
    "plt.legend(fontsize =17)\n",
    "plt.xlabel(\"Nan probability\", fontsize = 20)"
   ]
  },
  {
   "cell_type": "markdown",
   "id": "efa9f5ff-7449-41d4-b618-ff2e8bfaec34",
   "metadata": {},
   "source": [
    "### Our method achieves about 24% improvement over simple linear interpolation when imputing single missing values — a strong result."
   ]
  },
  {
   "cell_type": "markdown",
   "id": "ef40defb-9ddc-4b48-9913-825ec683e6c1",
   "metadata": {},
   "source": [
    "# Part 2: fitting all nans, not only single ones\n",
    "\n",
    "We first train the model on the \"linear\" regime (points with both neighbors available).  \n",
    "Then, we iteratively fill missing values:\n",
    "\n",
    "1. **Forward regime:** train using the next neighbor (shift -1).  \n",
    "2. **Backward regime:** train using the previous neighbor (shift +1).  \n",
    "\n",
    "At each step, we predict missing values and update the series, until no NaNs remain."
   ]
  },
  {
   "cell_type": "code",
   "execution_count": 291,
   "id": "f4e1c131-7096-4b47-aced-9fe0910e1118",
   "metadata": {},
   "outputs": [],
   "source": [
    "def give_train_target(s, donors, regime='linear'):\n",
    "    if regime == 'linear':\n",
    "        # Training indices: valid values with valid neighbors on both sides\n",
    "        mask_train = s.notna() & s.shift(1).notna() & s.shift(-1).notna()\n",
    "        train_indices = s.index[mask_train].tolist()\n",
    "\n",
    "        # Target indices: missing values with valid neighbors on both sides\n",
    "        mask_target = s.isna() & s.shift(1).notna() & s.shift(-1).notna()\n",
    "        target_indices = s.index[mask_target].tolist()\n",
    "\n",
    "        interpol = (s.shift(1) + s.shift(-1)) / 2\n",
    "\n",
    "        X = pd.concat([donors, donors.shift(-1)], axis=1).loc[train_indices].to_numpy()\n",
    "        X_target = pd.concat([donors, donors.shift(-1)], axis=1).loc[target_indices].to_numpy()\n",
    "\n",
    "    elif regime == 'forward':\n",
    "        # Training indices: valid values with valid right neighbor\n",
    "        mask_train = s.notna() & s.shift(-1).notna()\n",
    "        train_indices = s.index[mask_train].tolist()\n",
    "\n",
    "        # Target indices: missing values with valid right neighbor\n",
    "        mask_target = s.isna() & s.shift(-1).notna()\n",
    "        target_indices = s.index[mask_target].tolist()\n",
    "\n",
    "        interpol = s.shift(-1)\n",
    "\n",
    "        X = pd.concat([donors, donors.shift(-1)], axis=1).loc[train_indices].to_numpy()\n",
    "        X_target = pd.concat([donors, donors.shift(-1)], axis=1).loc[target_indices].to_numpy()\n",
    "\n",
    "    elif regime == 'backward':\n",
    "        # Training indices: valid values with valid left neighbor\n",
    "        mask_train = s.notna() & s.shift(1).notna()\n",
    "        train_indices = s.index[mask_train].tolist()\n",
    "\n",
    "        # Target indices: missing values with valid left neighbor\n",
    "        mask_target = s.isna() & s.shift(1).notna()\n",
    "        target_indices = s.index[mask_target].tolist()\n",
    "\n",
    "        interpol = s.shift(1)\n",
    "\n",
    "        X = pd.concat([donors, donors.shift(1)], axis=1).loc[train_indices].to_numpy()\n",
    "        X_target = pd.concat([donors, donors.shift(1)], axis=1).loc[target_indices].to_numpy()\n",
    "\n",
    "    else:\n",
    "        raise ValueError(\"Unknown regime\")\n",
    "\n",
    "    # Target values as relative deviation from interpolation\n",
    "    y = ((s - interpol) / interpol).loc[train_indices].to_numpy()\n",
    "\n",
    "    # Remove edges where shift produced NaN\n",
    "    X, y = X[1:-1], y[1:-1]\n",
    "\n",
    "    return X, y, X_target, target_indices, interpol\n"
   ]
  },
  {
   "cell_type": "code",
   "execution_count": 292,
   "id": "42a1dcd2-c58e-45c7-bc93-8fb0a20f404f",
   "metadata": {},
   "outputs": [
    {
     "name": "stderr",
     "output_type": "stream",
     "text": [
      "100%|██████████████████████████████████████████████████████████████████████████████████| 20/20 [04:18<00:00, 12.94s/it]\n"
     ]
    }
   ],
   "source": [
    "aver = 100\n",
    "p_arr = np.linspace(0.005, 0.3, 20)\n",
    "performance = np.zeros(len(p_arr))\n",
    "\n",
    "for i, p in tqdm(enumerate(p_arr), total=len(p_arr)):\n",
    "    for j in range(aver):\n",
    "        # Containers for predictions and ground truth\n",
    "        pred_prices = []\n",
    "        true_prices = []\n",
    "        easy_pred_prices = []\n",
    "        \n",
    "        # Generate missing values\n",
    "        historical_prices_with_nans = generate_nans(p, historical_prices)\n",
    "        \n",
    "        # Donors with interpolation\n",
    "        donors = give_donors(15, historical_prices_with_nans, target_ticker).interpolate(\n",
    "            method=\"linear\", limit_direction=\"both\"\n",
    "        )\n",
    "        \n",
    "        # Target series with missing values\n",
    "        s = historical_prices_with_nans[target_ticker].copy()\n",
    "        \n",
    "        # Simple baseline prediction (linear interpolation)\n",
    "        easy_predict = s.interpolate(method=\"linear\", limit_direction=\"both\")\n",
    "        \n",
    "        # Initial training on \"linear\" regime\n",
    "        X, y, X_target, target_indices, interpol = give_train_target(s, donors)\n",
    "        \n",
    "        \n",
    "        model = ElasticNet(**best_params)\n",
    "        model.fit(X, y)\n",
    "            \n",
    "        pred = model.predict(X_target)\n",
    "        pred_prices_t = (1 + pred) * interpol.loc[target_indices].values\n",
    "        s[target_indices] = pred_prices_t\n",
    "            \n",
    "            # Collect results\n",
    "        pred_prices = np.hstack((pred_prices, pred_prices_t))\n",
    "        true_prices = np.hstack((true_prices, historical_prices[target_ticker].loc[target_indices].values))\n",
    "        easy_pred_prices = np.hstack((easy_pred_prices, easy_predict.loc[target_indices].values))\n",
    "    \n",
    "            # Iteratively fill gaps using forward/backward regimes\n",
    "        X, y, X_target, target_indices, interpol = give_train_target(s, donors, regime=\"forward\")\n",
    "        \n",
    "        while len(X_target) > 0:\n",
    "            # Forward step\n",
    "            model = ElasticNet(**best_params)\n",
    "            model.fit(X, y)\n",
    "            \n",
    "            pred = model.predict(X_target)\n",
    "            pred_prices_t = (1 + pred) * interpol.loc[target_indices].values\n",
    "            s[target_indices] = pred_prices_t\n",
    "            \n",
    "            pred_prices = np.hstack((pred_prices, pred_prices_t))\n",
    "            true_prices = np.hstack((true_prices, historical_prices[target_ticker].loc[target_indices].values))\n",
    "            easy_pred_prices = np.hstack((easy_pred_prices, easy_predict.loc[target_indices].values))\n",
    "            \n",
    "            # Backward step\n",
    "            X, y, X_target, target_indices, interpol = give_train_target(s, donors, regime=\"backward\")\n",
    "            \n",
    "            if len(X_target) > 0:\n",
    "                model = ElasticNet(**best_params)\n",
    "                model.fit(X, y)\n",
    "                \n",
    "                pred = model.predict(X_target)\n",
    "                pred_prices_t = (1 + pred) * interpol.loc[target_indices].values\n",
    "                s[target_indices] = pred_prices_t\n",
    "                \n",
    "                pred_prices = np.hstack((pred_prices, pred_prices_t))\n",
    "                true_prices = np.hstack((true_prices, historical_prices[target_ticker].loc[target_indices].values))\n",
    "                easy_pred_prices = np.hstack((easy_pred_prices, easy_predict.loc[target_indices].values))\n",
    "                \n",
    "                # Switch back to forward regime\n",
    "                X, y, X_target, target_indices, interpol = give_train_target(s, donors, regime=\"forward\")\n",
    "\n",
    "        # Compute RMSE for model vs baseline\n",
    "        rmse_model = mean_squared_error(pred_prices, true_prices) ** 0.5\n",
    "        rmse_baseline = mean_squared_error(easy_pred_prices, true_prices) ** 0.5\n",
    "        \n",
    "        # Normalized improvement\n",
    "        performance[i] += (rmse_baseline - rmse_model) / rmse_baseline / aver"
   ]
  },
  {
   "cell_type": "code",
   "execution_count": 293,
   "id": "cdde50b4-3591-4059-99dc-a35c8d7d9bdd",
   "metadata": {},
   "outputs": [
    {
     "name": "stderr",
     "output_type": "stream",
     "text": [
      "C:\\Users\\Костя\\AppData\\Local\\Temp\\ipykernel_3076\\2558559607.py:9: UserWarning: No artists with labels found to put in legend.  Note that artists whose label start with an underscore are ignored when legend() is called with no argument.\n",
      "  plt.legend(fontsize =17)\n"
     ]
    },
    {
     "data": {
      "image/png": "[encoded data removed]",
      "text/plain": [
       "<Figure size 640x480 with 1 Axes>"
      ]
     },
     "metadata": {},
     "output_type": "display_data"
    }
   ],
   "source": [
    "plt.plot(p_arr, performance*100, c ='r')\n",
    "\n",
    "plt.xticks(fontsize =20)\n",
    "plt.yticks(fontsize = 20)\n",
    "\n",
    "\n",
    "plt.ylabel(\"Performance, %\", fontsize =20)\n",
    "#plt.title('$k_{minloss} = \\\\pi/4$', fontsize = 20)\n",
    "plt.legend(fontsize =17)\n",
    "plt.xlabel(\"Nan probability\", fontsize = 20)\n",
    "plt.savefig(\"plot.png\", dpi=300, bbox_inches=\"tight\")"
   ]
  },
  {
   "cell_type": "code",
   "execution_count": null,
   "id": "b285a0e7-860d-4e29-92a2-9f948d2696b4",
   "metadata": {},
   "outputs": [],
   "source": []
  }
 ],
 "metadata": {
  "kernelspec": {
   "display_name": "Python 3 (ipykernel)",
   "language": "python",
   "name": "python3"
  },
  "language_info": {
   "codemirror_mode": {
    "name": "ipython",
    "version": 3
   },
   "file_extension": ".py",
   "mimetype": "text/x-python",
   "name": "python",
   "nbconvert_exporter": "python",
   "pygments_lexer": "ipython3",
   "version": "3.10.16"
  }
 },
 "nbformat": 4,
 "nbformat_minor": 5
}
